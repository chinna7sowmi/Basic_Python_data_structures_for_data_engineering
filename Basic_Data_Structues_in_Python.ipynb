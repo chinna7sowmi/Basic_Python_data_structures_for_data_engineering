{
 "cells": [
  {
   "cell_type": "code",
   "execution_count": 1,
   "id": "7cc5891b",
   "metadata": {},
   "outputs": [
    {
     "data": {
      "text/plain": [
       "3"
      ]
     },
     "execution_count": 1,
     "metadata": {},
     "output_type": "execute_result"
    }
   ],
   "source": [
    "1+2"
   ]
  },
  {
   "cell_type": "code",
   "execution_count": 4,
   "id": "af568138",
   "metadata": {},
   "outputs": [
    {
     "name": "stdout",
     "output_type": "stream",
     "text": [
      "[]\n",
      "[1, 2, 3, 4, 5]\n",
      "[1, 2, 3, 'hi']\n",
      "<class 'list'>\n",
      "<class 'list'>\n"
     ]
    }
   ],
   "source": [
    "arr_list=[]\n",
    "arr_list1=[1,2,3,4,5]\n",
    "arr_list2=[1,2,3,\"hi\"]\n",
    "print(arr_list)\n",
    "print(arr_list1)\n",
    "print(arr_list2)\n",
    "print(type(arr_list2))\n",
    "print(type(arr_list1))"
   ]
  },
  {
   "cell_type": "code",
   "execution_count": 5,
   "id": "1b786cec",
   "metadata": {},
   "outputs": [
    {
     "name": "stdout",
     "output_type": "stream",
     "text": [
      "[0, 1, 2, 3, 4, 5, 6, 7, 8, 9]\n",
      "10\n"
     ]
    }
   ],
   "source": [
    "arr_list=[]\n",
    "for i in range(10):\n",
    "    arr_list.append(i)\n",
    "print(arr_list)\n",
    "print(len(arr_list))"
   ]
  },
  {
   "cell_type": "code",
   "execution_count": 18,
   "id": "666fb324",
   "metadata": {},
   "outputs": [
    {
     "name": "stdout",
     "output_type": "stream",
     "text": [
      "[1, 2, 3, 4, 5, 6, 7, 8, 9]\n"
     ]
    },
    {
     "data": {
      "text/plain": [
       "9"
      ]
     },
     "execution_count": 18,
     "metadata": {},
     "output_type": "execute_result"
    }
   ],
   "source": [
    "arr_list10=[1,2,3,4,5]\n",
    "arr_list2=[6,7,8,9]\n",
    "result = arr_list10 + arr_list2\n",
    "print(result)\n",
    "len(result)"
   ]
  },
  {
   "cell_type": "code",
   "execution_count": 19,
   "id": "950b24a4",
   "metadata": {},
   "outputs": [
    {
     "name": "stdout",
     "output_type": "stream",
     "text": [
      "[1, 2, 3, 4, 5]\n",
      "[1, 2, 3, [1, 2, 3, 4, 5]]\n",
      "[4, 5, 6, 6, 7, 8, 9]\n"
     ]
    },
    {
     "data": {
      "text/plain": [
       "7"
      ]
     },
     "execution_count": 19,
     "metadata": {},
     "output_type": "execute_result"
    }
   ],
   "source": [
    "arr_list12=[1,2,3]\n",
    "arr_list13=[4,5,6]\n",
    "arr_list12.append(arr_list10)\n",
    "arr_list13.extend(arr_list2)\n",
    "\n",
    "print(arr_list10)\n",
    "\n",
    "print(arr_list12)\n",
    "print(arr_list13)\n",
    "\n",
    "len(arr_list12)\n",
    "\n",
    "len(arr_list13)"
   ]
  },
  {
   "cell_type": "code",
   "execution_count": 11,
   "id": "8b8ed32d",
   "metadata": {},
   "outputs": [
    {
     "name": "stdout",
     "output_type": "stream",
     "text": [
      "None\n"
     ]
    }
   ],
   "source": [
    "result123 = arr_list1.append(10)\n",
    "print(result123)"
   ]
  },
  {
   "cell_type": "code",
   "execution_count": 20,
   "id": "c9ef9ed2",
   "metadata": {},
   "outputs": [
    {
     "name": "stdout",
     "output_type": "stream",
     "text": [
      "1\n",
      "2\n",
      "3\n",
      "4\n",
      "5\n"
     ]
    }
   ],
   "source": [
    "list1=[1,2,3,4,5]\n",
    "for i in list1:\n",
    "    print(i)"
   ]
  },
  {
   "cell_type": "code",
   "execution_count": 23,
   "id": "a28e5f78",
   "metadata": {},
   "outputs": [
    {
     "name": "stdout",
     "output_type": "stream",
     "text": [
      "1\n",
      "2\n",
      "3\n",
      "4\n",
      "5\n"
     ]
    }
   ],
   "source": [
    "list2=[1,2,3,4,5]\n",
    "for num in range(0,len(list2)):\n",
    "    print(list2[num])"
   ]
  },
  {
   "cell_type": "code",
   "execution_count": 24,
   "id": "33fe9d87",
   "metadata": {},
   "outputs": [
    {
     "name": "stdout",
     "output_type": "stream",
     "text": [
      "(1, 2, 3, 4, 5)\n"
     ]
    }
   ],
   "source": [
    "tuple1=(1,2,3,4,5)\n",
    "print(tuple1)"
   ]
  },
  {
   "cell_type": "code",
   "execution_count": 26,
   "id": "c82aec8d",
   "metadata": {},
   "outputs": [
    {
     "name": "stdout",
     "output_type": "stream",
     "text": [
      "(1, 2, 3, 4, 5)\n"
     ]
    }
   ],
   "source": [
    "print(tuple1)"
   ]
  },
  {
   "cell_type": "code",
   "execution_count": 28,
   "id": "f7217559",
   "metadata": {},
   "outputs": [
    {
     "name": "stdout",
     "output_type": "stream",
     "text": [
      "{'chinna': 26, 'srilatha': 25}\n"
     ]
    },
    {
     "data": {
      "text/plain": [
       "2"
      ]
     },
     "execution_count": 28,
     "metadata": {},
     "output_type": "execute_result"
    }
   ],
   "source": [
    "dict_exp ={\"chinna\":26,\"srilatha\":25}\n",
    "print(dict_exp)\n",
    "len(dict_exp)"
   ]
  },
  {
   "cell_type": "code",
   "execution_count": 30,
   "id": "27ee56fb",
   "metadata": {},
   "outputs": [
    {
     "name": "stdout",
     "output_type": "stream",
     "text": [
      "{'chinna': 26, 'srilatha': 25}\n",
      "{'chinna': 26, 'srilatha': 26}\n"
     ]
    }
   ],
   "source": [
    "dict_exp={}\n",
    "dict_exp[\"chinna\"]=26\n",
    "dict_exp[\"srilatha\"]=25\n",
    "print(dict_exp)\n",
    "dict_exp[\"srilatha\"]=26\n",
    "print(dict_exp)"
   ]
  },
  {
   "cell_type": "code",
   "execution_count": 35,
   "id": "7793b0fe",
   "metadata": {},
   "outputs": [
    {
     "name": "stdout",
     "output_type": "stream",
     "text": [
      "Key is chinna  and value is 26\n",
      "key is chinna\n",
      "value is 26\n",
      "Key is srilatha  and value is 26\n",
      "key is srilatha\n",
      "value is 26\n",
      "26\n"
     ]
    }
   ],
   "source": [
    "for key,value in dict_exp.items():\n",
    "    print(\"Key is\",key,\" and value is\",value)\n",
    "    print(\"key is\",key)\n",
    "    print(\"value is\",value)\n",
    "print(dict_exp[\"srilatha\"])"
   ]
  },
  {
   "cell_type": "code",
   "execution_count": 36,
   "id": "b5d3fa76",
   "metadata": {},
   "outputs": [
    {
     "name": "stdout",
     "output_type": "stream",
     "text": [
      "{2, 3, 4, 5, 6}\n"
     ]
    },
    {
     "data": {
      "text/plain": [
       "5"
      ]
     },
     "execution_count": 36,
     "metadata": {},
     "output_type": "execute_result"
    }
   ],
   "source": [
    "set_var=set()\n",
    "set_var.add(2)\n",
    "set_var.add(2)\n",
    "set_var.add(3)\n",
    "set_var.add(3)\n",
    "set_var.add(4)\n",
    "set_var.add(4)\n",
    "set_var.add(5)\n",
    "set_var.add(5)\n",
    "set_var.add(6)\n",
    "set_var.add(6)\n",
    "print(set_var)\n",
    "len(set_var)"
   ]
  },
  {
   "cell_type": "code",
   "execution_count": 37,
   "id": "42c8abec",
   "metadata": {},
   "outputs": [
    {
     "name": "stdout",
     "output_type": "stream",
     "text": [
      "[2, 3, 4, 5, 6]\n",
      "2\n",
      "3\n",
      "4\n",
      "5\n",
      "6\n"
     ]
    }
   ],
   "source": [
    "set_list = list(set_var)\n",
    "print(set_list)\n",
    "\n",
    "for i in set_list:\n",
    "    print(i)"
   ]
  },
  {
   "cell_type": "code",
   "execution_count": 40,
   "id": "46c98795",
   "metadata": {},
   "outputs": [
    {
     "name": "stdout",
     "output_type": "stream",
     "text": [
      "ineuronbigdataclasses\n",
      "INEURONBIGDATACLASSES\n",
      "ineuronbigdataclasses\n"
     ]
    }
   ],
   "source": [
    "tmp_str=\"ineuronbigdataclasses\"\n",
    "print(tmp_str)\n",
    "len(tmp_str)\n",
    "#for i in tmp_str:\n",
    "    #print(i)\n",
    "print(tmp_str.upper())\n",
    "print(tmp_str.lower())"
   ]
  },
  {
   "cell_type": "code",
   "execution_count": 43,
   "id": "4e8d9076",
   "metadata": {},
   "outputs": [
    {
     "name": "stdout",
     "output_type": "stream",
     "text": [
      "[2, 1, 5, 9, 3, 7]\n",
      "[1, 2, 3, 5, 7, 9]\n",
      "[9, 7, 5, 3, 2, 1]\n"
     ]
    }
   ],
   "source": [
    "arr_list1=[2,1,5,9,3,7]\n",
    "print(arr_list1)\n",
    "arr_list1.sort()\n",
    "print(arr_list1)\n",
    "\n",
    "arr_list1.sort(reverse=True)\n",
    "print(arr_list1)\n"
   ]
  },
  {
   "cell_type": "code",
   "execution_count": 46,
   "id": "f4ded484",
   "metadata": {},
   "outputs": [
    {
     "name": "stdout",
     "output_type": "stream",
     "text": [
      "[2, 22]\n"
     ]
    }
   ],
   "source": [
    "arr_list2=[2,1,7,5,49,33,45,22]\n",
    "even_list=[]\n",
    "for num in arr_list2:\n",
    "    if num%2==0:\n",
    "        even_list.append(num)\n",
    "print(even_list)"
   ]
  },
  {
   "cell_type": "code",
   "execution_count": 48,
   "id": "9777b492",
   "metadata": {},
   "outputs": [
    {
     "name": "stdout",
     "output_type": "stream",
     "text": [
      "[2, 22, 1, 7, 5, 49, 33, 45]\n"
     ]
    }
   ],
   "source": [
    "even_list1 = [num for num in arr_list2 if num%2 == 0 ] + [num for num in arr_list2 if num%2 != 0 ]\n",
    "print(even_list1)"
   ]
  },
  {
   "cell_type": "code",
   "execution_count": 51,
   "id": "351d4caa",
   "metadata": {},
   "outputs": [
    {
     "name": "stdout",
     "output_type": "stream",
     "text": [
      "this is my first python function\n"
     ]
    }
   ],
   "source": [
    "def print_func():\n",
    "    print(\"this is my first python function\")\n",
    "print_func()"
   ]
  },
  {
   "cell_type": "code",
   "execution_count": 54,
   "id": "fe65737c",
   "metadata": {},
   "outputs": [
    {
     "data": {
      "text/plain": [
       "3486784401"
      ]
     },
     "execution_count": 54,
     "metadata": {},
     "output_type": "execute_result"
    }
   ],
   "source": [
    "def power_func(num,power):\n",
    "    result=num**power\n",
    "    return result\n",
    "power_func(3,20)"
   ]
  },
  {
   "cell_type": "code",
   "execution_count": 55,
   "id": "4218ffe2",
   "metadata": {},
   "outputs": [
    {
     "name": "stdout",
     "output_type": "stream",
     "text": [
      "13\n",
      "7\n",
      "30\n"
     ]
    }
   ],
   "source": [
    "def math_operations(n1,n2):\n",
    "    add=n1+n2\n",
    "    sub=n1-n2\n",
    "    mul=n1*n2\n",
    "    return add,sub,mul\n",
    "a=10\n",
    "b=3\n",
    "add,sub,mul = math_operations(a,b)\n",
    "print(add)\n",
    "print(sub)\n",
    "print(mul)"
   ]
  },
  {
   "cell_type": "code",
   "execution_count": 56,
   "id": "dec9417c",
   "metadata": {},
   "outputs": [
    {
     "name": "stdout",
     "output_type": "stream",
     "text": [
      "81\n",
      "81\n"
     ]
    }
   ],
   "source": [
    "def power_func(**kwargs):\n",
    "    result = kwargs['num'] ** kwargs['exp']\n",
    "    return result\n",
    "\n",
    "output1=power_func(num=3,exp=4)\n",
    "output2=power_func(exp=4,num=3)\n",
    "print(output1)\n",
    "print(output2)"
   ]
  },
  {
   "cell_type": "code",
   "execution_count": 60,
   "id": "c44dc5ce",
   "metadata": {},
   "outputs": [
    {
     "name": "stdout",
     "output_type": "stream",
     "text": [
      "30\n",
      "200\n",
      "100\n"
     ]
    }
   ],
   "source": [
    "x=10\n",
    "y=20\n",
    "lam_add = lambda x,y:x+y\n",
    "lam_mul = lambda x,y:x*y\n",
    "lam_power = lambda x : x*x\n",
    "a=lam_add(x,y)\n",
    "b=lam_mul(x,y)\n",
    "c=lam_power(x)\n",
    "print(a)\n",
    "print(b)\n",
    "print(c)"
   ]
  },
  {
   "cell_type": "code",
   "execution_count": 62,
   "id": "4b0f8033",
   "metadata": {},
   "outputs": [
    {
     "name": "stdout",
     "output_type": "stream",
     "text": [
      "[6, 8, 9, 7, 15]\n",
      "[1, 9, 16, 4, 100]\n"
     ]
    }
   ],
   "source": [
    "arr_list4=[1,3,4,2,10]\n",
    "add_five_lambda = lambda x :x + 5\n",
    "square_lambda = lambda x :x * x\n",
    "result1 = list(map(add_five_lambda,arr_list4))\n",
    "result2 = list(map(square_lambda,arr_list4))\n",
    "print(result1)\n",
    "print(result2)"
   ]
  },
  {
   "cell_type": "code",
   "execution_count": 64,
   "id": "195a8861",
   "metadata": {},
   "outputs": [
    {
     "name": "stdout",
     "output_type": "stream",
     "text": [
      "[6, 8, 10, 12]\n"
     ]
    }
   ],
   "source": [
    "arr_list5=[1,2,3,4]\n",
    "arr_list6=[5,6,7,8]\n",
    "sum_of_lists = lambda x,y : x+y\n",
    "sum_of_list_result = list(map(sum_of_lists,arr_list5,arr_list6))\n",
    "print(sum_of_list_result)"
   ]
  },
  {
   "cell_type": "code",
   "execution_count": 65,
   "id": "580dd1f8",
   "metadata": {},
   "outputs": [
    {
     "name": "stdout",
     "output_type": "stream",
     "text": [
      "10\n"
     ]
    }
   ],
   "source": [
    "from functools import reduce\n",
    "\n",
    "arr_list7=[1,2,3,4]\n",
    "sum_ele= lambda x,y : x+y\n",
    "result_red=reduce(sum_ele,arr_list7)\n",
    "print(result_red)"
   ]
  },
  {
   "cell_type": "code",
   "execution_count": 67,
   "id": "d967b07f",
   "metadata": {},
   "outputs": [
    {
     "name": "stdout",
     "output_type": "stream",
     "text": [
      "[2, 4, 6, 8]\n"
     ]
    }
   ],
   "source": [
    "arr_list8=[1,2,3,4,5,6,7,8]\n",
    "sum_fil= lambda x :x%2==0\n",
    "result_filter=list(filter(sum_fil,arr_list8))\n",
    "print(result_filter)"
   ]
  },
  {
   "cell_type": "code",
   "execution_count": 68,
   "id": "aebd7718",
   "metadata": {},
   "outputs": [
    {
     "name": "stdout",
     "output_type": "stream",
     "text": [
      "Some thing goes wrong!!\n"
     ]
    }
   ],
   "source": [
    "a=10\n",
    "try:\n",
    "    result=a/0\n",
    "except:\n",
    "    print(\"Some thing goes wrong!!\")"
   ]
  },
  {
   "cell_type": "code",
   "execution_count": 72,
   "id": "c6ac79f2",
   "metadata": {},
   "outputs": [
    {
     "name": "stdout",
     "output_type": "stream",
     "text": [
      "Every thing is fine\n",
      "This is finally\n"
     ]
    }
   ],
   "source": [
    "a=20\n",
    "try:\n",
    "    result=a/10\n",
    "except Exception as err:\n",
    "    print(str(err))\n",
    "else:\n",
    "    print(\"Every thing is fine\")\n",
    "finally:\n",
    "    print(\"This is finally\")"
   ]
  },
  {
   "cell_type": "code",
   "execution_count": 71,
   "id": "9226b25d",
   "metadata": {},
   "outputs": [
    {
     "name": "stdout",
     "output_type": "stream",
     "text": [
      "Enter your name:-chinna\n",
      "Enter your age:-21\n",
      "Valid User!\n"
     ]
    }
   ],
   "source": [
    "name=input(\"Enter your name:-\")\n",
    "age=int(input(\"Enter your age:-\"))\n",
    "try:\n",
    "    if(age<18):\n",
    "        raise Exception(\"Can't register\")\n",
    "    print(\"Valid User!\")\n",
    "except Exception as err:\n",
    "    print(str(err))"
   ]
  },
  {
   "cell_type": "code",
   "execution_count": null,
   "id": "8cc69cf2",
   "metadata": {},
   "outputs": [],
   "source": []
  }
 ],
 "metadata": {
  "kernelspec": {
   "display_name": "Python 3 (ipykernel)",
   "language": "python",
   "name": "python3"
  },
  "language_info": {
   "codemirror_mode": {
    "name": "ipython",
    "version": 3
   },
   "file_extension": ".py",
   "mimetype": "text/x-python",
   "name": "python",
   "nbconvert_exporter": "python",
   "pygments_lexer": "ipython3",
   "version": "3.9.7"
  }
 },
 "nbformat": 4,
 "nbformat_minor": 5
}
